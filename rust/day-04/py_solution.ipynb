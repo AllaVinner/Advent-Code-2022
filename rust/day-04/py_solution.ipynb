{
 "cells": [
  {
   "cell_type": "code",
   "execution_count": 1,
   "metadata": {},
   "outputs": [],
   "source": [
    "with open('input.txt' , 'r') as f:\n",
    "    content = f.read()\n"
   ]
  },
  {
   "cell_type": "code",
   "execution_count": 6,
   "metadata": {},
   "outputs": [
    {
     "data": {
      "text/plain": [
       "433"
      ]
     },
     "execution_count": 6,
     "metadata": {},
     "output_type": "execute_result"
    }
   ],
   "source": [
    "sum = 0\n",
    "for line in content.split(\"\\n\"):\n",
    "    if line == '':\n",
    "        break\n",
    "    r1, r2 = line.split(',')\n",
    "    r11 = int(r1.split('-')[0])\n",
    "    r12 = int(r1.split('-')[1])\n",
    "    r21 = int(r2.split('-')[0])\n",
    "    r22 = int(r2.split('-')[1])\n",
    "    if r11 <= r21 and r22 <= r12:\n",
    "        sum = sum + 1\n",
    "    elif r21 <= r11 and r12 <= r22:\n",
    "        sum = sum + 1\n",
    "    \n",
    "\n",
    "sum"
   ]
  },
  {
   "cell_type": "code",
   "execution_count": 8,
   "metadata": {},
   "outputs": [
    {
     "data": {
      "text/plain": [
       "852"
      ]
     },
     "execution_count": 8,
     "metadata": {},
     "output_type": "execute_result"
    }
   ],
   "source": [
    "sum = 0\n",
    "for line in content.split(\"\\n\"):\n",
    "    if line == '':\n",
    "        break\n",
    "    r1, r2 = line.split(',')\n",
    "    r11 = int(r1.split('-')[0])\n",
    "    r12 = int(r1.split('-')[1])\n",
    "    r21 = int(r2.split('-')[0])\n",
    "    r22 = int(r2.split('-')[1])\n",
    "    if r21 <= r12 and r12 <= r22:\n",
    "        sum = sum + 1\n",
    "    elif r21 <= r11 and r11 <= r22:\n",
    "        sum = sum + 1\n",
    "    elif r11 <= r22 and r22 <= r12:\n",
    "        sum = sum + 1\n",
    "    elif r11 <= r21 and r21 <= r12:\n",
    "        sum = sum + 1\n",
    "\n",
    "sum"
   ]
  },
  {
   "cell_type": "code",
   "execution_count": null,
   "metadata": {},
   "outputs": [],
   "source": []
  }
 ],
 "metadata": {
  "kernelspec": {
   "display_name": "Python 3.9.7 ('jenv')",
   "language": "python",
   "name": "python3"
  },
  "language_info": {
   "codemirror_mode": {
    "name": "ipython",
    "version": 3
   },
   "file_extension": ".py",
   "mimetype": "text/x-python",
   "name": "python",
   "nbconvert_exporter": "python",
   "pygments_lexer": "ipython3",
   "version": "3.9.7"
  },
  "orig_nbformat": 4,
  "vscode": {
   "interpreter": {
    "hash": "a6df720517243887f81f829574e18eed6582ce87175ffd531d5fa99bc43729cc"
   }
  }
 },
 "nbformat": 4,
 "nbformat_minor": 2
}
